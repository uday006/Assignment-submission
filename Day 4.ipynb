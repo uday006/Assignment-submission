{
 "cells": [
  {
   "cell_type": "code",
   "execution_count": 1,
   "id": "5b0e4925",
   "metadata": {},
   "outputs": [
    {
     "name": "stdout",
     "output_type": "stream",
     "text": [
      "my name is : Uday Sharma aged : 20 and stays at : west virginia\n"
     ]
    }
   ],
   "source": [
    "name = \"Uday Sharma\"\n",
    "age = 20\n",
    "location = 'west virginia'\n",
    "print(f\"my name is : {name} aged : {age} and stays at : {location}\")"
   ]
  },
  {
   "cell_type": "code",
   "execution_count": 2,
   "id": "b0b1c170",
   "metadata": {},
   "outputs": [],
   "source": [
    "def introduction(name,age,location):\n",
    "    print(f\"my name is : {name}, aged : {age}, and stays at : {location}\")"
   ]
  },
  {
   "cell_type": "code",
   "execution_count": 3,
   "id": "bf7e0d0d",
   "metadata": {},
   "outputs": [
    {
     "data": {
      "text/plain": [
       "function"
      ]
     },
     "execution_count": 3,
     "metadata": {},
     "output_type": "execute_result"
    }
   ],
   "source": [
    "type(introduction)"
   ]
  },
  {
   "cell_type": "code",
   "execution_count": 6,
   "id": "fffa445a",
   "metadata": {},
   "outputs": [],
   "source": [
    "introduction()"
   ]
  },
  {
   "cell_type": "code",
   "execution_count": 10,
   "id": "c79805c6",
   "metadata": {},
   "outputs": [
    {
     "name": "stdout",
     "output_type": "stream",
     "text": [
      "my name is : Uday, aged : 20, and stays at : jammu\n",
      "my name is : python, aged : 34, and stays at : Delhi\n",
      "my name is : katapa, aged : 24, and stays at : canada\n"
     ]
    }
   ],
   "source": [
    "introduction('Uday',20,'jammu')\n",
    "introduction('python',34,'Delhi')\n",
    "introduction('katapa',24,'canada')"
   ]
  },
  {
   "cell_type": "code",
   "execution_count": 11,
   "id": "0ccab4bf",
   "metadata": {},
   "outputs": [],
   "source": [
    "def iterate_over_loop(l):\n",
    "    for i in l:\n",
    "        print(f\"my name : {i}\")"
   ]
  },
  {
   "cell_type": "code",
   "execution_count": 12,
   "id": "ca12c5c3",
   "metadata": {},
   "outputs": [
    {
     "name": "stdout",
     "output_type": "stream",
     "text": [
      "my name : 1\n",
      "my name : 2\n",
      "my name : 3\n",
      "my name : 4\n",
      "my name : 55\n",
      "my name : 5\n",
      "my name : 6\n",
      "my name : 6\n"
     ]
    }
   ],
   "source": [
    "iterate_over_loop([1,2,3,4,55,5,6,6,])"
   ]
  },
  {
   "cell_type": "code",
   "execution_count": 28,
   "id": "ffdd7ef2",
   "metadata": {},
   "outputs": [],
   "source": [
    "def sum_me(l):\n",
    "    print(f\"sum of list is: {sum(l)}\")\n",
    "    print(f\"minimum length is: {min(l)}\")\n",
    "    print(f\"length is : {max(l)}\")\n",
    "    "
   ]
  },
  {
   "cell_type": "code",
   "execution_count": 30,
   "id": "05cb7e9e",
   "metadata": {},
   "outputs": [
    {
     "name": "stdout",
     "output_type": "stream",
     "text": [
      "sum of list is: 78\n",
      "minimum length is: 1\n",
      "length is : 56\n",
      "sum of list is: 503\n",
      "minimum length is: 23\n",
      "length is : 345\n"
     ]
    }
   ],
   "source": [
    "sum_me([1,2,3,4,5,56,7,])\n",
    "sum_me([23,345,57,78])"
   ]
  },
  {
   "cell_type": "code",
   "execution_count": 32,
   "id": "58bd5ec1",
   "metadata": {},
   "outputs": [],
   "source": [
    "def declare_var():\n",
    "    a='Lets Upgrade'\n",
    "    print(f\"value of a  is: {a}\")"
   ]
  },
  {
   "cell_type": "code",
   "execution_count": 33,
   "id": "678ee2db",
   "metadata": {},
   "outputs": [
    {
     "name": "stdout",
     "output_type": "stream",
     "text": [
      "value of a  is: Lets Upgrade\n"
     ]
    }
   ],
   "source": [
    "declare_var()"
   ]
  },
  {
   "cell_type": "code",
   "execution_count": 35,
   "id": "f257fb78",
   "metadata": {},
   "outputs": [],
   "source": [
    "def sum_me(l):\n",
    "    print(sum(l))"
   ]
  },
  {
   "cell_type": "code",
   "execution_count": 38,
   "id": "15d57cdd",
   "metadata": {},
   "outputs": [
    {
     "name": "stdout",
     "output_type": "stream",
     "text": [
      "5808\n"
     ]
    }
   ],
   "source": [
    "ans = sum_me([1,23,3,5,5776])"
   ]
  },
  {
   "cell_type": "code",
   "execution_count": 40,
   "id": "00e0d23a",
   "metadata": {},
   "outputs": [
    {
     "name": "stdout",
     "output_type": "stream",
     "text": [
      "None\n"
     ]
    }
   ],
   "source": [
    "print(ans)"
   ]
  },
  {
   "cell_type": "code",
   "execution_count": 42,
   "id": "deebfc9f",
   "metadata": {},
   "outputs": [],
   "source": [
    "def sum_me(l):\n",
    "    return sum(l)"
   ]
  },
  {
   "cell_type": "code",
   "execution_count": 45,
   "id": "a3306f32",
   "metadata": {},
   "outputs": [
    {
     "data": {
      "text/plain": [
       "575"
      ]
     },
     "execution_count": 45,
     "metadata": {},
     "output_type": "execute_result"
    }
   ],
   "source": [
    "sum_me([1,2,23,3,546]) #also works with print but also without that"
   ]
  },
  {
   "cell_type": "code",
   "execution_count": 46,
   "id": "6508bfcd",
   "metadata": {},
   "outputs": [],
   "source": [
    "ans2=sum_me([1,23,3,354,566])"
   ]
  },
  {
   "cell_type": "code",
   "execution_count": 47,
   "id": "0dfd1f16",
   "metadata": {},
   "outputs": [
    {
     "name": "stdout",
     "output_type": "stream",
     "text": [
      "1894\n"
     ]
    }
   ],
   "source": [
    "print(ans2*2)"
   ]
  },
  {
   "cell_type": "code",
   "execution_count": 63,
   "id": "6312fe59",
   "metadata": {},
   "outputs": [],
   "source": [
    "def introduction_without_return(name,age,location):\n",
    "    print(name,age,location)\n",
    "def introduction_with_return(name,age,location):\n",
    "    return name,age,location"
   ]
  },
  {
   "cell_type": "code",
   "execution_count": 64,
   "id": "bf9757df",
   "metadata": {},
   "outputs": [
    {
     "name": "stdout",
     "output_type": "stream",
     "text": [
      "No return 45 Mumbai\n"
     ]
    }
   ],
   "source": [
    "ans = introduction_without_return('No return',45,'Mumbai')\n",
    "ans2=introduction_with_return('Yes',54,'Chennai')"
   ]
  },
  {
   "cell_type": "code",
   "execution_count": 71,
   "id": "2f8da621",
   "metadata": {},
   "outputs": [
    {
     "name": "stdout",
     "output_type": "stream",
     "text": [
      "No return ! 34 Mumbai\n"
     ]
    }
   ],
   "source": [
    "ans=introduction_without_return('No return !',34,\"Mumbai\")"
   ]
  },
  {
   "cell_type": "code",
   "execution_count": 69,
   "id": "a130ffff",
   "metadata": {},
   "outputs": [
    {
     "data": {
      "text/plain": [
       "('Yes', 54, 'Chennai')"
      ]
     },
     "execution_count": 69,
     "metadata": {},
     "output_type": "execute_result"
    }
   ],
   "source": [
    "ans2"
   ]
  },
  {
   "cell_type": "code",
   "execution_count": 60,
   "id": "0b1ca2aa",
   "metadata": {},
   "outputs": [],
   "source": [
    "n,a,l=ans2"
   ]
  },
  {
   "cell_type": "code",
   "execution_count": 61,
   "id": "a8e7e801",
   "metadata": {},
   "outputs": [
    {
     "name": "stdout",
     "output_type": "stream",
     "text": [
      "Yes\n",
      "54\n",
      "Chennai\n"
     ]
    }
   ],
   "source": [
    "print(n)\n",
    "print(a)\n",
    "print(l)"
   ]
  },
  {
   "cell_type": "code",
   "execution_count": 75,
   "id": "c97d9cbd",
   "metadata": {},
   "outputs": [],
   "source": [
    "def add_2(a):\n",
    "    return a+2"
   ]
  },
  {
   "cell_type": "code",
   "execution_count": 76,
   "id": "1bb85d82",
   "metadata": {},
   "outputs": [],
   "source": [
    "items=[1,2,35,46,6,75]"
   ]
  },
  {
   "cell_type": "code",
   "execution_count": 77,
   "id": "7bdd244d",
   "metadata": {},
   "outputs": [
    {
     "name": "stdout",
     "output_type": "stream",
     "text": [
      "original item was: 1, added 2 to it : 3\n",
      "original item was: 2, added 2 to it : 4\n",
      "original item was: 35, added 2 to it : 37\n",
      "original item was: 46, added 2 to it : 48\n",
      "original item was: 6, added 2 to it : 8\n",
      "original item was: 75, added 2 to it : 77\n"
     ]
    }
   ],
   "source": [
    "for each_item in items:\n",
    "    print(f'original item was: {each_item}, added 2 to it : {add_2(each_item)}')"
   ]
  },
  {
   "cell_type": "code",
   "execution_count": 80,
   "id": "58a5ec95",
   "metadata": {},
   "outputs": [],
   "source": [
    "def introduce(name):\n",
    "    return f\"Greet : {name}\""
   ]
  },
  {
   "cell_type": "code",
   "execution_count": 81,
   "id": "1d0e3c06",
   "metadata": {},
   "outputs": [
    {
     "name": "stdout",
     "output_type": "stream",
     "text": [
      "Greet : Lets Upgrade\n"
     ]
    }
   ],
   "source": [
    "print(introduce(\"Lets Upgrade\"))"
   ]
  },
  {
   "cell_type": "code",
   "execution_count": 17,
   "id": "3ce48152",
   "metadata": {},
   "outputs": [],
   "source": [
    "a=0"
   ]
  },
  {
   "cell_type": "code",
   "execution_count": 18,
   "id": "4dbabc85",
   "metadata": {},
   "outputs": [
    {
     "name": "stdout",
     "output_type": "stream",
     "text": [
      "0\n",
      "1\n",
      "2\n",
      "3\n",
      "4\n",
      "5\n",
      "6\n",
      "7\n",
      "8\n",
      "9\n",
      "10\n",
      "11\n",
      "12\n"
     ]
    }
   ],
   "source": [
    "while a<=12:\n",
    "    print(a)\n",
    "    a+=1"
   ]
  },
  {
   "cell_type": "code",
   "execution_count": 20,
   "id": "e51ef0e0",
   "metadata": {},
   "outputs": [
    {
     "name": "stdout",
     "output_type": "stream",
     "text": [
      "0\n",
      "2\n",
      "4\n",
      "6\n",
      "8\n",
      "10\n",
      "12\n",
      "14\n"
     ]
    }
   ],
   "source": [
    "a=0\n",
    "while a<=15:\n",
    "    print(a)\n",
    "    a+=2"
   ]
  },
  {
   "cell_type": "code",
   "execution_count": 1,
   "id": "fbdc0f9d",
   "metadata": {},
   "outputs": [
    {
     "name": "stdout",
     "output_type": "stream",
     "text": [
      "15\n",
      "14\n",
      "13\n",
      "12\n",
      "11\n",
      "10\n",
      "9\n",
      "8\n",
      "7\n",
      "6\n",
      "5\n",
      "4\n",
      "3\n",
      "2\n",
      "1\n",
      "0\n"
     ]
    }
   ],
   "source": [
    "b=15\n",
    "while b>=0:\n",
    "    print(b)\n",
    "    b-=1"
   ]
  },
  {
   "cell_type": "code",
   "execution_count": 2,
   "id": "03029f7c",
   "metadata": {},
   "outputs": [
    {
     "name": "stdout",
     "output_type": "stream",
     "text": [
      "15\n",
      "12\n",
      "9\n",
      "6\n",
      "3\n",
      "0\n"
     ]
    }
   ],
   "source": [
    "b=15\n",
    "while b>=0:\n",
    "    print(b)\n",
    "    b-=3"
   ]
  },
  {
   "cell_type": "code",
   "execution_count": null,
   "id": "e8362fa5",
   "metadata": {},
   "outputs": [],
   "source": []
  }
 ],
 "metadata": {
  "kernelspec": {
   "display_name": "Python 3 (ipykernel)",
   "language": "python",
   "name": "python3"
  },
  "language_info": {
   "codemirror_mode": {
    "name": "ipython",
    "version": 3
   },
   "file_extension": ".py",
   "mimetype": "text/x-python",
   "name": "python",
   "nbconvert_exporter": "python",
   "pygments_lexer": "ipython3",
   "version": "3.9.7"
  }
 },
 "nbformat": 4,
 "nbformat_minor": 5
}
