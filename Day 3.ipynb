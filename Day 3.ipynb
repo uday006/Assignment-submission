{
 "cells": [
  {
   "cell_type": "code",
   "execution_count": 3,
   "id": "12040ce6",
   "metadata": {},
   "outputs": [
    {
     "name": "stdout",
     "output_type": "stream",
     "text": [
      "Uday\n"
     ]
    }
   ],
   "source": [
    "#User input\n",
    "name = input()"
   ]
  },
  {
   "cell_type": "code",
   "execution_count": 4,
   "id": "7d4985b3",
   "metadata": {},
   "outputs": [
    {
     "data": {
      "text/plain": [
       "'Uday'"
      ]
     },
     "execution_count": 4,
     "metadata": {},
     "output_type": "execute_result"
    }
   ],
   "source": [
    "name"
   ]
  },
  {
   "cell_type": "code",
   "execution_count": 6,
   "id": "9f0081b2",
   "metadata": {},
   "outputs": [
    {
     "name": "stdout",
     "output_type": "stream",
     "text": [
      "Please enter your name Uday Sharma\n"
     ]
    }
   ],
   "source": [
    "name = input(\"Please enter your name \")"
   ]
  },
  {
   "cell_type": "code",
   "execution_count": 7,
   "id": "a3ac34db",
   "metadata": {},
   "outputs": [
    {
     "data": {
      "text/plain": [
       "'Uday Sharma'"
      ]
     },
     "execution_count": 7,
     "metadata": {},
     "output_type": "execute_result"
    }
   ],
   "source": [
    "name"
   ]
  },
  {
   "cell_type": "code",
   "execution_count": 8,
   "id": "207b8746",
   "metadata": {},
   "outputs": [
    {
     "data": {
      "text/plain": [
       "str"
      ]
     },
     "execution_count": 8,
     "metadata": {},
     "output_type": "execute_result"
    }
   ],
   "source": [
    "type(name)"
   ]
  },
  {
   "cell_type": "code",
   "execution_count": 9,
   "id": "9c726925",
   "metadata": {},
   "outputs": [
    {
     "name": "stdout",
     "output_type": "stream",
     "text": [
      "Please Enter your age 20\n"
     ]
    }
   ],
   "source": [
    "age =input(\"Please Enter your age \")"
   ]
  },
  {
   "cell_type": "code",
   "execution_count": 10,
   "id": "55cb82f2",
   "metadata": {},
   "outputs": [
    {
     "data": {
      "text/plain": [
       "'20'"
      ]
     },
     "execution_count": 10,
     "metadata": {},
     "output_type": "execute_result"
    }
   ],
   "source": [
    "age"
   ]
  },
  {
   "cell_type": "code",
   "execution_count": 11,
   "id": "a4bc2e67",
   "metadata": {},
   "outputs": [
    {
     "data": {
      "text/plain": [
       "str"
      ]
     },
     "execution_count": 11,
     "metadata": {},
     "output_type": "execute_result"
    }
   ],
   "source": [
    "type(age)"
   ]
  },
  {
   "cell_type": "code",
   "execution_count": 12,
   "id": "9e67f842",
   "metadata": {},
   "outputs": [
    {
     "name": "stdout",
     "output_type": "stream",
     "text": [
      "True\n"
     ]
    }
   ],
   "source": [
    "condition = input(\"\")"
   ]
  },
  {
   "cell_type": "code",
   "execution_count": 13,
   "id": "3e978ce9",
   "metadata": {},
   "outputs": [
    {
     "data": {
      "text/plain": [
       "'True'"
      ]
     },
     "execution_count": 13,
     "metadata": {},
     "output_type": "execute_result"
    }
   ],
   "source": [
    "condition"
   ]
  },
  {
   "cell_type": "code",
   "execution_count": 15,
   "id": "9ff08742",
   "metadata": {},
   "outputs": [
    {
     "data": {
      "text/plain": [
       "str"
      ]
     },
     "execution_count": 15,
     "metadata": {},
     "output_type": "execute_result"
    }
   ],
   "source": [
    "type(condition)"
   ]
  },
  {
   "cell_type": "code",
   "execution_count": 16,
   "id": "e38b4154",
   "metadata": {},
   "outputs": [
    {
     "name": "stdout",
     "output_type": "stream",
     "text": [
      "Marks 90.12\n"
     ]
    }
   ],
   "source": [
    "marks=input(\"Marks \")"
   ]
  },
  {
   "cell_type": "code",
   "execution_count": 19,
   "id": "c70dbb12",
   "metadata": {},
   "outputs": [
    {
     "data": {
      "text/plain": [
       "'90.12'"
      ]
     },
     "execution_count": 19,
     "metadata": {},
     "output_type": "execute_result"
    }
   ],
   "source": [
    "marks"
   ]
  },
  {
   "cell_type": "code",
   "execution_count": 21,
   "id": "5f40d51b",
   "metadata": {},
   "outputs": [
    {
     "data": {
      "text/plain": [
       "str"
      ]
     },
     "execution_count": 21,
     "metadata": {},
     "output_type": "execute_result"
    }
   ],
   "source": [
    "type(marks)"
   ]
  },
  {
   "cell_type": "code",
   "execution_count": 22,
   "id": "8b4e02df",
   "metadata": {},
   "outputs": [
    {
     "name": "stdout",
     "output_type": "stream",
     "text": [
      "please enter your age 20\n"
     ]
    }
   ],
   "source": [
    "age = input(\"please enter your age \")"
   ]
  },
  {
   "cell_type": "code",
   "execution_count": 24,
   "id": "75204197",
   "metadata": {},
   "outputs": [
    {
     "data": {
      "text/plain": [
       "22"
      ]
     },
     "execution_count": 24,
     "metadata": {},
     "output_type": "execute_result"
    }
   ],
   "source": [
    "int(age)+2"
   ]
  },
  {
   "cell_type": "code",
   "execution_count": 25,
   "id": "d25dad36",
   "metadata": {},
   "outputs": [
    {
     "data": {
      "text/plain": [
       "str"
      ]
     },
     "execution_count": 25,
     "metadata": {},
     "output_type": "execute_result"
    }
   ],
   "source": [
    "type(age)"
   ]
  },
  {
   "cell_type": "code",
   "execution_count": 26,
   "id": "8461f14f",
   "metadata": {},
   "outputs": [
    {
     "name": "stdout",
     "output_type": "stream",
     "text": [
      "Please enter your age 18\n"
     ]
    }
   ],
   "source": [
    "age = int(input('Please enter your age '))"
   ]
  },
  {
   "cell_type": "code",
   "execution_count": 27,
   "id": "4a6feb92",
   "metadata": {},
   "outputs": [
    {
     "data": {
      "text/plain": [
       "20"
      ]
     },
     "execution_count": 27,
     "metadata": {},
     "output_type": "execute_result"
    }
   ],
   "source": [
    "age+2"
   ]
  },
  {
   "cell_type": "code",
   "execution_count": 34,
   "id": "80acc803",
   "metadata": {},
   "outputs": [
    {
     "name": "stdout",
     "output_type": "stream",
     "text": [
      "Exact Marks 24\n"
     ]
    }
   ],
   "source": [
    "marks = int(input(\"Exact Marks \"))"
   ]
  },
  {
   "cell_type": "code",
   "execution_count": 31,
   "id": "879feef3",
   "metadata": {},
   "outputs": [
    {
     "name": "stdout",
     "output_type": "stream",
     "text": [
      "Exact marks 45.56\n"
     ]
    },
    {
     "data": {
      "text/plain": [
       "48.06"
      ]
     },
     "execution_count": 31,
     "metadata": {},
     "output_type": "execute_result"
    }
   ],
   "source": [
    "marks=float(input('Exact marks '))\n",
    "marks+2.5"
   ]
  },
  {
   "cell_type": "code",
   "execution_count": 32,
   "id": "d6f7bcd1",
   "metadata": {},
   "outputs": [
    {
     "data": {
      "text/plain": [
       "45.56"
      ]
     },
     "execution_count": 32,
     "metadata": {},
     "output_type": "execute_result"
    }
   ],
   "source": [
    "marks"
   ]
  },
  {
   "cell_type": "code",
   "execution_count": 33,
   "id": "f1bbbe53",
   "metadata": {},
   "outputs": [
    {
     "data": {
      "text/plain": [
       "float"
      ]
     },
     "execution_count": 33,
     "metadata": {},
     "output_type": "execute_result"
    }
   ],
   "source": [
    "type(marks)"
   ]
  },
  {
   "cell_type": "code",
   "execution_count": 44,
   "id": "03fa565d",
   "metadata": {},
   "outputs": [
    {
     "data": {
      "text/plain": [
       "'\\x0c'"
      ]
     },
     "execution_count": 44,
     "metadata": {},
     "output_type": "execute_result"
    }
   ],
   "source": [
    "chr(12)"
   ]
  },
  {
   "cell_type": "code",
   "execution_count": 48,
   "id": "7b051df5",
   "metadata": {},
   "outputs": [
    {
     "data": {
      "text/plain": [
       "2.3"
      ]
     },
     "execution_count": 48,
     "metadata": {},
     "output_type": "execute_result"
    }
   ],
   "source": [
    "6.6-4.3"
   ]
  },
  {
   "cell_type": "code",
   "execution_count": 52,
   "id": "7ae86c56",
   "metadata": {},
   "outputs": [
    {
     "data": {
      "text/plain": [
       "2"
      ]
     },
     "execution_count": 52,
     "metadata": {},
     "output_type": "execute_result"
    }
   ],
   "source": [
    "round(6.6-4.3)"
   ]
  },
  {
   "cell_type": "code",
   "execution_count": 57,
   "id": "138471bb",
   "metadata": {},
   "outputs": [
    {
     "data": {
      "text/plain": [
       "5.5"
      ]
     },
     "execution_count": 57,
     "metadata": {},
     "output_type": "execute_result"
    }
   ],
   "source": [
    "round(9.6-4.1,3)"
   ]
  },
  {
   "cell_type": "code",
   "execution_count": 2,
   "id": "b356c9e3",
   "metadata": {},
   "outputs": [],
   "source": [
    "totalInput=list()"
   ]
  },
  {
   "cell_type": "code",
   "execution_count": 60,
   "id": "cd405b0e",
   "metadata": {},
   "outputs": [
    {
     "name": "stdout",
     "output_type": "stream",
     "text": [
      "0\n",
      "1\n",
      "2\n",
      "3\n",
      "4\n",
      "5\n"
     ]
    }
   ],
   "source": [
    "for i in range(6):\n",
    "    print(i)"
   ]
  },
  {
   "cell_type": "code",
   "execution_count": 3,
   "id": "f243d6b8",
   "metadata": {},
   "outputs": [
    {
     "name": "stdout",
     "output_type": "stream",
     "text": [
      "Please enter your fav. fruit: mango\n",
      "Please enter your fav. fruit: apple\n",
      "Please enter your fav. fruit: banana\n",
      "Please enter your fav. fruit: guava\n",
      "Please enter your fav. fruit: cherry\n",
      "Please enter your fav. fruit: litchi\n"
     ]
    }
   ],
   "source": [
    "\n",
    "    for i in range(6):\n",
    "        totalInput.append(input(\"Please enter your fav. fruit: \"))\n",
    "        "
   ]
  },
  {
   "cell_type": "code",
   "execution_count": 4,
   "id": "49b50f36",
   "metadata": {},
   "outputs": [
    {
     "data": {
      "text/plain": [
       "['mango', 'apple', 'banana', 'guava', 'cherry', 'litchi']"
      ]
     },
     "execution_count": 4,
     "metadata": {},
     "output_type": "execute_result"
    }
   ],
   "source": [
    "totalInput"
   ]
  },
  {
   "cell_type": "code",
   "execution_count": 9,
   "id": "f312eb16",
   "metadata": {},
   "outputs": [
    {
     "name": "stdout",
     "output_type": "stream",
     "text": [
      "mango\n",
      "apple\n",
      "banana\n",
      "guava\n",
      "cherry\n",
      "litchi\n"
     ]
    }
   ],
   "source": [
    "for each_fruit in totalInput:\n",
    "    print(each_fruit)"
   ]
  },
  {
   "cell_type": "code",
   "execution_count": 6,
   "id": "6d7d1eea",
   "metadata": {},
   "outputs": [
    {
     "name": "stdout",
     "output_type": "stream",
     "text": [
      "mango 0\n",
      "apple 1\n",
      "banana 2\n",
      "guava 3\n",
      "cherry 4\n",
      "litchi 5\n"
     ]
    }
   ],
   "source": [
    "for each_fruit in totalInput:\n",
    "    print(each_fruit,totalInput.index(each_fruit))"
   ]
  },
  {
   "cell_type": "code",
   "execution_count": 11,
   "id": "3d89ee81",
   "metadata": {},
   "outputs": [
    {
     "name": "stdout",
     "output_type": "stream",
     "text": [
      "0 mango\n",
      "1 apple\n",
      "2 banana\n",
      "3 guava\n",
      "4 cherry\n",
      "5 litchi\n"
     ]
    }
   ],
   "source": [
    "for each_fruit in range(len(totalInput)):\n",
    "    print(each_fruit,totalInput[each_fruit])"
   ]
  },
  {
   "cell_type": "code",
   "execution_count": 46,
   "id": "a69dd4e9",
   "metadata": {},
   "outputs": [
    {
     "name": "stdout",
     "output_type": "stream",
     "text": [
      "0 mango\n",
      "1 apple\n",
      "2 banana\n",
      "3 guava\n",
      "4 cherry\n",
      "5 litchi\n"
     ]
    }
   ],
   "source": [
    "for index,item in enumerate(totalInput):\n",
    "    print(index,item)"
   ]
  },
  {
   "cell_type": "code",
   "execution_count": 12,
   "id": "d253f899",
   "metadata": {},
   "outputs": [
    {
     "name": "stdout",
     "output_type": "stream",
     "text": [
      "mango apple banana guava cherry litchi\n"
     ]
    }
   ],
   "source": [
    "print(*totalInput)"
   ]
  },
  {
   "cell_type": "code",
   "execution_count": 16,
   "id": "2eb6429b",
   "metadata": {},
   "outputs": [
    {
     "name": "stdout",
     "output_type": "stream",
     "text": [
      "mango--apple--banana--guava--cherry--litchi--"
     ]
    }
   ],
   "source": [
    "for i in totalInput:\n",
    "    print(i,end = '--')"
   ]
  },
  {
   "cell_type": "code",
   "execution_count": 35,
   "id": "d002b0c5",
   "metadata": {},
   "outputs": [
    {
     "name": "stdout",
     "output_type": "stream",
     "text": [
      "this fruit starts with b: banana\n"
     ]
    }
   ],
   "source": [
    "for i in totalInput:\n",
    "    if i.startswith('b'):\n",
    "        print(f\"this fruit starts with b: {i}\")"
   ]
  },
  {
   "cell_type": "code",
   "execution_count": 36,
   "id": "25f0bcaf",
   "metadata": {},
   "outputs": [
    {
     "name": "stdout",
     "output_type": "stream",
     "text": [
      "this fruit does not starts with b : mango\n",
      "this fruit does not starts with b : apple\n",
      "this fruit starts with b : banana\n",
      "this fruit does not starts with b : guava\n",
      "this fruit does not starts with b : cherry\n",
      "this fruit does not starts with b : litchi\n"
     ]
    }
   ],
   "source": [
    "for i in totalInput:\n",
    "    if i.startswith('b'):\n",
    "        print(f'this fruit starts with b : {i}')\n",
    "    else :\n",
    "        print(f\"this fruit does not starts with b : {i}\")"
   ]
  },
  {
   "cell_type": "code",
   "execution_count": 43,
   "id": "631f0d9e",
   "metadata": {},
   "outputs": [],
   "source": [
    "items = [2,3,45,56,'a','c','f',True,False,True,[56,67],{'name':'LU'},56.67]"
   ]
  },
  {
   "cell_type": "code",
   "execution_count": 45,
   "id": "d2cb6345",
   "metadata": {},
   "outputs": [
    {
     "name": "stdout",
     "output_type": "stream",
     "text": [
      "(0, 2)\n",
      "(1, 3)\n",
      "(2, 45)\n",
      "(3, 56)\n",
      "(4, 'a')\n",
      "(5, 'c')\n",
      "(6, 'f')\n",
      "(7, True)\n",
      "(8, False)\n",
      "(9, True)\n",
      "(10, [56, 67])\n",
      "(11, {'name': 'LU'})\n",
      "(12, 56.67)\n"
     ]
    }
   ],
   "source": [
    "for eachItem in enumerate(items):\n",
    "    print(eachItem)"
   ]
  },
  {
   "cell_type": "code",
   "execution_count": 47,
   "id": "9312ac73",
   "metadata": {},
   "outputs": [
    {
     "name": "stdout",
     "output_type": "stream",
     "text": [
      "0 2 <class 'int'>\n",
      "1 3 <class 'int'>\n",
      "2 45 <class 'int'>\n",
      "3 56 <class 'int'>\n",
      "4 a <class 'str'>\n",
      "5 c <class 'str'>\n",
      "6 f <class 'str'>\n",
      "7 True <class 'bool'>\n",
      "8 False <class 'bool'>\n",
      "9 True <class 'bool'>\n",
      "10 [56, 67] <class 'list'>\n",
      "11 {'name': 'LU'} <class 'dict'>\n",
      "12 56.67 <class 'float'>\n"
     ]
    }
   ],
   "source": [
    "for eachIndex,eachItem in enumerate(items):\n",
    "    print(eachIndex,eachItem,type(eachItem))"
   ]
  },
  {
   "cell_type": "code",
   "execution_count": 49,
   "id": "c24a8dc3",
   "metadata": {},
   "outputs": [
    {
     "name": "stdout",
     "output_type": "stream",
     "text": [
      "this is a integer:2\n",
      "this is a integer:3\n",
      "this is a integer:45\n",
      "this is a integer:56\n"
     ]
    }
   ],
   "source": [
    "for eachIndex,eachItem in enumerate(items):\n",
    "    if type(eachItem)==int:\n",
    "        print(f\"this is a integer:{eachItem}\")"
   ]
  },
  {
   "cell_type": "code",
   "execution_count": 53,
   "id": "df6f6dc6",
   "metadata": {},
   "outputs": [
    {
     "name": "stdout",
     "output_type": "stream",
     "text": [
      "this is a float:56.67\n"
     ]
    }
   ],
   "source": [
    "for eachIndex,eachItem in enumerate(items):\n",
    "    if type(eachItem)==float:\n",
    "        print(f\"this is a float:{eachItem}\")"
   ]
  },
  {
   "cell_type": "code",
   "execution_count": 52,
   "id": "1d87279f",
   "metadata": {},
   "outputs": [
    {
     "name": "stdout",
     "output_type": "stream",
     "text": [
      "this is a string:a\n",
      "this is a string:c\n",
      "this is a string:f\n"
     ]
    }
   ],
   "source": [
    "for eachIndex,eachItem in enumerate(items):\n",
    "    if type(eachItem)==str:\n",
    "        print(f\"this is a string:{eachItem}\")"
   ]
  },
  {
   "cell_type": "code",
   "execution_count": 54,
   "id": "2aeca381",
   "metadata": {},
   "outputs": [
    {
     "name": "stdout",
     "output_type": "stream",
     "text": [
      "this is a list:[56, 67]\n"
     ]
    }
   ],
   "source": [
    "for eachIndex,eachItem in enumerate(items):\n",
    "    if type(eachItem)==list:\n",
    "        print(f\"this is a list:{eachItem}\")"
   ]
  },
  {
   "cell_type": "code",
   "execution_count": 55,
   "id": "381db03f",
   "metadata": {},
   "outputs": [
    {
     "name": "stdout",
     "output_type": "stream",
     "text": [
      "this is a bool:True\n",
      "this is a bool:False\n",
      "this is a bool:True\n"
     ]
    }
   ],
   "source": [
    "for eachIndex,eachItem in enumerate(items):\n",
    "    if type(eachItem)==bool:\n",
    "        print(f\"this is a bool:{eachItem}\")"
   ]
  },
  {
   "cell_type": "code",
   "execution_count": 56,
   "id": "4616a001",
   "metadata": {},
   "outputs": [
    {
     "name": "stdout",
     "output_type": "stream",
     "text": [
      "this is a dict:{'name': 'LU'}\n"
     ]
    }
   ],
   "source": [
    "for eachIndex,eachItem in enumerate(items):\n",
    "    if type(eachItem)==dict:\n",
    "        print(f\"this is a dict:{eachItem}\")"
   ]
  },
  {
   "cell_type": "code",
   "execution_count": 60,
   "id": "b5fd29bc",
   "metadata": {},
   "outputs": [
    {
     "name": "stdout",
     "output_type": "stream",
     "text": [
      "this is integer: 2\n",
      "this is integer: 3\n",
      "this is integer: 45\n",
      "this is integer: 56\n",
      "this is str: a\n",
      "this is str: c\n",
      "this is str: f\n",
      "this is bool: True\n",
      "this is bool: False\n",
      "this is bool: True\n",
      "this is list: [56, 67]\n",
      "this is dict: {'name': 'LU'}\n",
      "this is float: 56.67\n"
     ]
    }
   ],
   "source": [
    "for eachIndex,eachItem in enumerate(items):\n",
    "    if type(eachItem)==int:\n",
    "        print(f\"this is integer: {eachItem}\")\n",
    "    elif type(eachItem)==str:\n",
    "        print(f'this is str: {eachItem}')\n",
    "    elif type(eachItem)==float:\n",
    "        print(f'this is float: {eachItem}')\n",
    "    elif type(eachItem)==bool:\n",
    "        print(f'this is bool: {eachItem}')\n",
    "    elif type(eachItem)==list:\n",
    "        print(f'this is list: {eachItem}')\n",
    "    elif type(eachItem)==dict:\n",
    "        print(f'this is dict: {eachItem}')\n",
    "        \n",
    "        \n",
    "        \n",
    "        "
   ]
  },
  {
   "cell_type": "code",
   "execution_count": 64,
   "id": "db6ea773",
   "metadata": {},
   "outputs": [
    {
     "name": "stdout",
     "output_type": "stream",
     "text": [
      "this is integer (and added 2): 4\n",
      "this is integer (and added 2): 5\n",
      "this is integer (and added 2): 47\n",
      "this is integer (and added 2): 58\n",
      "this is str (added '!'): a!\n",
      "this is str (added '!'): c!\n",
      "this is str (added '!'): f!\n",
      "this is bool: True\n",
      "this is bool: False\n",
      "this is bool: True\n",
      "this is list (sum of list): 123\n",
      "this is dict (all the items): dict_items([('name', 'LU')])\n",
      "this is float (added 0.5): 57.17\n"
     ]
    }
   ],
   "source": [
    "for eachIndex,eachItem in enumerate(items):\n",
    "    if type(eachItem)==int:\n",
    "        print(f\"this is integer (and added 2): {eachItem+2}\")\n",
    "    elif type(eachItem)==str:\n",
    "        print(f\"this is str (added '!'): {eachItem+'!'}\")\n",
    "    elif type(eachItem)==float:\n",
    "        print(f'this is float (added 0.5): {eachItem+0.5}')\n",
    "    elif type(eachItem)==bool:\n",
    "        print(f'this is bool: {eachItem}')\n",
    "    elif type(eachItem)==list:\n",
    "        print(f'this is list (sum of list): {sum(eachItem)}')\n",
    "    elif type(eachItem)==dict:\n",
    "        print(f'this is dict (all the items): {eachItem.items()}')\n",
    "        "
   ]
  },
  {
   "cell_type": "code",
   "execution_count": 65,
   "id": "b88d8627",
   "metadata": {},
   "outputs": [
    {
     "data": {
      "text/plain": [
       "['mango', 'apple', 'banana', 'guava', 'cherry', 'litchi']"
      ]
     },
     "execution_count": 65,
     "metadata": {},
     "output_type": "execute_result"
    }
   ],
   "source": [
    "totalInput"
   ]
  },
  {
   "cell_type": "code",
   "execution_count": 71,
   "id": "e7f506f0",
   "metadata": {},
   "outputs": [
    {
     "name": "stdout",
     "output_type": "stream",
     "text": [
      "mango apple banana guava cherry litchi -->\n"
     ]
    }
   ],
   "source": [
    "print(*totalInput, '-->')"
   ]
  },
  {
   "cell_type": "code",
   "execution_count": 72,
   "id": "da1dafb6",
   "metadata": {},
   "outputs": [
    {
     "name": "stdout",
     "output_type": "stream",
     "text": [
      "mango--apple--banana--guava--cherry--litchi--"
     ]
    }
   ],
   "source": [
    "for i in totalInput:\n",
    "    print(i,end='--')"
   ]
  },
  {
   "cell_type": "markdown",
   "id": "5162e613",
   "metadata": {},
   "source": [
    "# list comprehension"
   ]
  },
  {
   "cell_type": "code",
   "execution_count": 73,
   "id": "687dae81",
   "metadata": {},
   "outputs": [
    {
     "data": {
      "text/plain": [
       "['this is :mango',\n",
       " 'this is :apple',\n",
       " 'this is :banana',\n",
       " 'this is :guava',\n",
       " 'this is :cherry',\n",
       " 'this is :litchi']"
      ]
     },
     "execution_count": 73,
     "metadata": {},
     "output_type": "execute_result"
    }
   ],
   "source": [
    "[f\"this is :{i}\" for i in totalInput]"
   ]
  },
  {
   "cell_type": "code",
   "execution_count": 74,
   "id": "61475862",
   "metadata": {},
   "outputs": [
    {
     "data": {
      "text/plain": [
       "['this is :banana']"
      ]
     },
     "execution_count": 74,
     "metadata": {},
     "output_type": "execute_result"
    }
   ],
   "source": [
    "[f\"this is :{i}\" for i in totalInput if i.startswith('b')]"
   ]
  },
  {
   "cell_type": "code",
   "execution_count": 75,
   "id": "33deeda1",
   "metadata": {},
   "outputs": [
    {
     "data": {
      "text/plain": [
       "'mango--->apple--->banana--->guava--->cherry--->litchi'"
      ]
     },
     "execution_count": 75,
     "metadata": {},
     "output_type": "execute_result"
    }
   ],
   "source": [
    "'--->'.join(totalInput)"
   ]
  },
  {
   "cell_type": "code",
   "execution_count": 76,
   "id": "1d46805b",
   "metadata": {},
   "outputs": [],
   "source": [
    "l=[\n",
    "    [1,2,3],\n",
    "    [4,5,6],\n",
    "    [8,9,10]\n",
    "]"
   ]
  },
  {
   "cell_type": "code",
   "execution_count": 77,
   "id": "9dc6bff2",
   "metadata": {},
   "outputs": [
    {
     "data": {
      "text/plain": [
       "[[1, 2, 3], [4, 5, 6], [8, 9, 10]]"
      ]
     },
     "execution_count": 77,
     "metadata": {},
     "output_type": "execute_result"
    }
   ],
   "source": [
    "l"
   ]
  },
  {
   "cell_type": "code",
   "execution_count": 82,
   "id": "f3de3b99",
   "metadata": {},
   "outputs": [
    {
     "data": {
      "text/plain": [
       "6"
      ]
     },
     "execution_count": 82,
     "metadata": {},
     "output_type": "execute_result"
    }
   ],
   "source": [
    "sum(l[0])"
   ]
  },
  {
   "cell_type": "code",
   "execution_count": 83,
   "id": "a11a411b",
   "metadata": {},
   "outputs": [
    {
     "data": {
      "text/plain": [
       "15"
      ]
     },
     "execution_count": 83,
     "metadata": {},
     "output_type": "execute_result"
    }
   ],
   "source": [
    "sum(l[1])"
   ]
  },
  {
   "cell_type": "code",
   "execution_count": 84,
   "id": "c70a2ad8",
   "metadata": {},
   "outputs": [
    {
     "data": {
      "text/plain": [
       "27"
      ]
     },
     "execution_count": 84,
     "metadata": {},
     "output_type": "execute_result"
    }
   ],
   "source": [
    "sum(l[2])"
   ]
  },
  {
   "cell_type": "code",
   "execution_count": 87,
   "id": "955c2740",
   "metadata": {},
   "outputs": [
    {
     "data": {
      "text/plain": [
       "[6, 15, 27]"
      ]
     },
     "execution_count": 87,
     "metadata": {},
     "output_type": "execute_result"
    }
   ],
   "source": [
    "[sum(i) for i in l]"
   ]
  },
  {
   "cell_type": "code",
   "execution_count": null,
   "id": "cb38bbd5",
   "metadata": {},
   "outputs": [],
   "source": []
  }
 ],
 "metadata": {
  "kernelspec": {
   "display_name": "Python 3 (ipykernel)",
   "language": "python",
   "name": "python3"
  },
  "language_info": {
   "codemirror_mode": {
    "name": "ipython",
    "version": 3
   },
   "file_extension": ".py",
   "mimetype": "text/x-python",
   "name": "python",
   "nbconvert_exporter": "python",
   "pygments_lexer": "ipython3",
   "version": "3.9.7"
  }
 },
 "nbformat": 4,
 "nbformat_minor": 5
}
