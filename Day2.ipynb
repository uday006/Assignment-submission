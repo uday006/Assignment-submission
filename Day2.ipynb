{
 "cells": [
  {
   "cell_type": "code",
   "execution_count": 1,
   "id": "0a9b9085",
   "metadata": {},
   "outputs": [
    {
     "name": "stdout",
     "output_type": "stream",
     "text": [
      "Lets Upgrade\n"
     ]
    }
   ],
   "source": [
    "print(\"Lets Upgrade\")"
   ]
  },
  {
   "cell_type": "code",
   "execution_count": 2,
   "id": "60571820",
   "metadata": {},
   "outputs": [],
   "source": [
    "name = \"Lets Upgrade\""
   ]
  },
  {
   "cell_type": "code",
   "execution_count": 3,
   "id": "ddd24e36",
   "metadata": {},
   "outputs": [
    {
     "name": "stdout",
     "output_type": "stream",
     "text": [
      "Lets Upgrade\n"
     ]
    }
   ],
   "source": [
    "print(name)"
   ]
  },
  {
   "cell_type": "code",
   "execution_count": 5,
   "id": "0736eabf",
   "metadata": {},
   "outputs": [
    {
     "name": "stdout",
     "output_type": "stream",
     "text": [
      "Hey Lets Upgrade\n"
     ]
    }
   ],
   "source": [
    "print(\"Hey \"+name)"
   ]
  },
  {
   "cell_type": "code",
   "execution_count": 6,
   "id": "76dca24c",
   "metadata": {},
   "outputs": [],
   "source": [
    "age = 20"
   ]
  },
  {
   "cell_type": "code",
   "execution_count": 7,
   "id": "44212a03",
   "metadata": {},
   "outputs": [],
   "source": [
    "country = \"India\""
   ]
  },
  {
   "cell_type": "code",
   "execution_count": 8,
   "id": "d996b140",
   "metadata": {},
   "outputs": [
    {
     "name": "stdout",
     "output_type": "stream",
     "text": [
      "Lets Upgrade 20 India\n"
     ]
    }
   ],
   "source": [
    "print(name,age,country)"
   ]
  },
  {
   "cell_type": "code",
   "execution_count": 10,
   "id": "e12552e1",
   "metadata": {},
   "outputs": [
    {
     "name": "stdout",
     "output_type": "stream",
     "text": [
      "My name is  Lets Upgrade aged 20 Lives in  India\n"
     ]
    }
   ],
   "source": [
    "print(\"My name is \", name, \"aged\", age,\"Lives in \",country)"
   ]
  },
  {
   "cell_type": "code",
   "execution_count": 11,
   "id": "7911077b",
   "metadata": {},
   "outputs": [
    {
     "name": "stdout",
     "output_type": "stream",
     "text": [
      "my name is Lets Upgrade and I'm 20 old and I stays in India\n"
     ]
    }
   ],
   "source": [
    "print(\"my name is %s and I'm %s old and I stays in %s\"%(name,age,country))"
   ]
  },
  {
   "cell_type": "code",
   "execution_count": 12,
   "id": "bb1abea6",
   "metadata": {},
   "outputs": [],
   "source": [
    "marks = 98.8"
   ]
  },
  {
   "cell_type": "code",
   "execution_count": 13,
   "id": "b9e33967",
   "metadata": {},
   "outputs": [
    {
     "name": "stdout",
     "output_type": "stream",
     "text": [
      "my name is Lets Upgrade and I'm 20 old and I stays in India and i got 98.8\n"
     ]
    }
   ],
   "source": [
    "print(\"my name is %s and I'm %s old and I stays in %s and i got %s\"%(\\\n",
    "                                        name,age,country,marks))"
   ]
  },
  {
   "cell_type": "code",
   "execution_count": 15,
   "id": "0c18ae96",
   "metadata": {},
   "outputs": [
    {
     "name": "stdout",
     "output_type": "stream",
     "text": [
      "my name is :Lets Upgrade amd im 20 years old and i stays in : India and i got 98.8\n"
     ]
    }
   ],
   "source": [
    "print('my name is :{} amd im {} years old and i stays in : {} and i got {}'\\\n",
    "      .format(name,age,country ,marks))"
   ]
  },
  {
   "cell_type": "markdown",
   "id": "97086dcb",
   "metadata": {},
   "source": [
    "# F string"
   ]
  },
  {
   "cell_type": "code",
   "execution_count": 16,
   "id": "cd0758d8",
   "metadata": {},
   "outputs": [
    {
     "name": "stdout",
     "output_type": "stream",
     "text": [
      "my name is Lets Upgrade and im 20 years old and i stays in India and i got 98.8\n"
     ]
    }
   ],
   "source": [
    "print(f'my name is {name} and im {age} years old and i stays\\\n",
    "in {country} and i got {marks}')"
   ]
  },
  {
   "cell_type": "markdown",
   "id": "39babc8c",
   "metadata": {},
   "source": [
    "# List"
   ]
  },
  {
   "cell_type": "code",
   "execution_count": 17,
   "id": "acbb8e6a",
   "metadata": {},
   "outputs": [],
   "source": [
    "total_items = list() #[]"
   ]
  },
  {
   "cell_type": "code",
   "execution_count": 18,
   "id": "eb71565d",
   "metadata": {},
   "outputs": [],
   "source": [
    "total_items.append(89)"
   ]
  },
  {
   "cell_type": "code",
   "execution_count": 19,
   "id": "ecf885e8",
   "metadata": {},
   "outputs": [],
   "source": [
    "total_items.append(34.5)"
   ]
  },
  {
   "cell_type": "code",
   "execution_count": 20,
   "id": "ccda0091",
   "metadata": {},
   "outputs": [],
   "source": [
    "total_items.append('lets upgrade')"
   ]
  },
  {
   "cell_type": "code",
   "execution_count": 22,
   "id": "df6d02e6",
   "metadata": {},
   "outputs": [],
   "source": [
    "total_items.append([1,2,3,4,5])"
   ]
  },
  {
   "cell_type": "code",
   "execution_count": 23,
   "id": "d927feda",
   "metadata": {},
   "outputs": [
    {
     "data": {
      "text/plain": [
       "[89, 34.5, 'lets upgrade', [1, 2, 3, 4, 5]]"
      ]
     },
     "execution_count": 23,
     "metadata": {},
     "output_type": "execute_result"
    }
   ],
   "source": [
    "total_items"
   ]
  },
  {
   "cell_type": "code",
   "execution_count": 30,
   "id": "0fa421e4",
   "metadata": {},
   "outputs": [
    {
     "data": {
      "text/plain": [
       "[89, 34.5, 'lets upgrade', [1, 2, 3, 4, 5]]"
      ]
     },
     "execution_count": 30,
     "metadata": {},
     "output_type": "execute_result"
    }
   ],
   "source": [
    "total_items"
   ]
  },
  {
   "cell_type": "code",
   "execution_count": 25,
   "id": "707f23e0",
   "metadata": {},
   "outputs": [
    {
     "data": {
      "text/plain": [
       "4"
      ]
     },
     "execution_count": 25,
     "metadata": {},
     "output_type": "execute_result"
    }
   ],
   "source": [
    "min(4,5,76,7,7)"
   ]
  },
  {
   "cell_type": "code",
   "execution_count": 26,
   "id": "7197ef66",
   "metadata": {},
   "outputs": [
    {
     "data": {
      "text/plain": [
       "34"
      ]
     },
     "execution_count": 26,
     "metadata": {},
     "output_type": "execute_result"
    }
   ],
   "source": [
    "max(2,34,5,6,6,)"
   ]
  },
  {
   "cell_type": "code",
   "execution_count": 29,
   "id": "3bce4244",
   "metadata": {},
   "outputs": [
    {
     "data": {
      "text/plain": [
       "87"
      ]
     },
     "execution_count": 29,
     "metadata": {},
     "output_type": "execute_result"
    }
   ],
   "source": [
    "sum([2,34,5,46])"
   ]
  },
  {
   "cell_type": "markdown",
   "id": "ab1c45ef",
   "metadata": {},
   "source": [
    "# For Loops"
   ]
  },
  {
   "cell_type": "code",
   "execution_count": 34,
   "id": "9e1c2843",
   "metadata": {},
   "outputs": [
    {
     "name": "stdout",
     "output_type": "stream",
     "text": [
      "89\n",
      "34.5\n",
      "lets upgrade\n",
      "[1, 2, 3, 4, 5]\n"
     ]
    }
   ],
   "source": [
    "for i in total_items: \n",
    "    print(i)"
   ]
  },
  {
   "cell_type": "code",
   "execution_count": 36,
   "id": "3a9f93b3",
   "metadata": {},
   "outputs": [
    {
     "name": "stdout",
     "output_type": "stream",
     "text": [
      "89 0\n",
      "34.5 1\n",
      "lets upgrade 2\n",
      "[1, 2, 3, 4, 5] 3\n"
     ]
    }
   ],
   "source": [
    "for i in total_items: print(i,total_items.index(i))"
   ]
  },
  {
   "cell_type": "code",
   "execution_count": 38,
   "id": "9ad0c6a0",
   "metadata": {},
   "outputs": [
    {
     "name": "stdout",
     "output_type": "stream",
     "text": [
      "value is :89, index is :0\n",
      "value is :34.5, index is :1\n",
      "value is :lets upgrade, index is :2\n",
      "value is :[1, 2, 3, 4, 5], index is :3\n"
     ]
    }
   ],
   "source": [
    "for i in total_items:print(f\"value is :{i}, index is :{total_items.index(i)}\")"
   ]
  },
  {
   "cell_type": "code",
   "execution_count": 39,
   "id": "fb5ffcc2",
   "metadata": {},
   "outputs": [
    {
     "data": {
      "text/plain": [
       "4"
      ]
     },
     "execution_count": 39,
     "metadata": {},
     "output_type": "execute_result"
    }
   ],
   "source": [
    "len(total_items)"
   ]
  },
  {
   "cell_type": "code",
   "execution_count": 40,
   "id": "36384e1e",
   "metadata": {},
   "outputs": [
    {
     "name": "stdout",
     "output_type": "stream",
     "text": [
      "0\n",
      "1\n",
      "2\n",
      "3\n"
     ]
    }
   ],
   "source": [
    "for i in range(len(total_items)):print(i)"
   ]
  },
  {
   "cell_type": "code",
   "execution_count": 45,
   "id": "f3a0f17f",
   "metadata": {},
   "outputs": [
    {
     "name": "stdout",
     "output_type": "stream",
     "text": [
      "value is :89, index is: 0\n",
      "value is :34.5, index is: 1\n",
      "value is :lets upgrade, index is: 2\n",
      "value is :[1, 2, 3, 4, 5], index is: 3\n"
     ]
    }
   ],
   "source": [
    "for i in range(len(total_items)):print\\\n",
    "    (f\"value is :{total_items[i]}, index is: {i}\")"
   ]
  },
  {
   "cell_type": "markdown",
   "id": "926222bf",
   "metadata": {},
   "source": [
    "# Tuple"
   ]
  },
  {
   "cell_type": "code",
   "execution_count": 46,
   "id": "54950fb1",
   "metadata": {},
   "outputs": [],
   "source": [
    "tuple_a = tuple()"
   ]
  },
  {
   "cell_type": "code",
   "execution_count": 47,
   "id": "461cc534",
   "metadata": {},
   "outputs": [
    {
     "data": {
      "text/plain": [
       "tuple"
      ]
     },
     "execution_count": 47,
     "metadata": {},
     "output_type": "execute_result"
    }
   ],
   "source": [
    "type(tuple_a)"
   ]
  },
  {
   "cell_type": "code",
   "execution_count": 48,
   "id": "a366888f",
   "metadata": {},
   "outputs": [],
   "source": [
    "tuple_b = ()"
   ]
  },
  {
   "cell_type": "code",
   "execution_count": 49,
   "id": "be7e7ad4",
   "metadata": {},
   "outputs": [
    {
     "data": {
      "text/plain": [
       "tuple"
      ]
     },
     "execution_count": 49,
     "metadata": {},
     "output_type": "execute_result"
    }
   ],
   "source": [
    "type(tuple_b)"
   ]
  },
  {
   "cell_type": "code",
   "execution_count": 50,
   "id": "949c3248",
   "metadata": {},
   "outputs": [
    {
     "data": {
      "text/plain": [
       "()"
      ]
     },
     "execution_count": 50,
     "metadata": {},
     "output_type": "execute_result"
    }
   ],
   "source": [
    "tuple_b"
   ]
  },
  {
   "cell_type": "code",
   "execution_count": 56,
   "id": "59dabbb2",
   "metadata": {},
   "outputs": [
    {
     "data": {
      "text/plain": [
       "0"
      ]
     },
     "execution_count": 56,
     "metadata": {},
     "output_type": "execute_result"
    }
   ],
   "source": [
    "tuple_b.count(2)"
   ]
  },
  {
   "cell_type": "code",
   "execution_count": 166,
   "id": "38f8ddfb",
   "metadata": {},
   "outputs": [],
   "source": [
    "#tuple_b.index(8)"
   ]
  },
  {
   "cell_type": "code",
   "execution_count": 58,
   "id": "4aa8839d",
   "metadata": {},
   "outputs": [
    {
     "data": {
      "text/plain": [
       "0"
      ]
     },
     "execution_count": 58,
     "metadata": {},
     "output_type": "execute_result"
    }
   ],
   "source": [
    "len(tuple_b)"
   ]
  },
  {
   "cell_type": "code",
   "execution_count": 59,
   "id": "59561add",
   "metadata": {},
   "outputs": [],
   "source": [
    "tuple_b = (1,2,3,5,5)"
   ]
  },
  {
   "cell_type": "code",
   "execution_count": 61,
   "id": "b967553f",
   "metadata": {},
   "outputs": [
    {
     "data": {
      "text/plain": [
       "1"
      ]
     },
     "execution_count": 61,
     "metadata": {},
     "output_type": "execute_result"
    }
   ],
   "source": [
    "tuple_b.index(2)"
   ]
  },
  {
   "cell_type": "code",
   "execution_count": 62,
   "id": "94c33fc1",
   "metadata": {},
   "outputs": [
    {
     "data": {
      "text/plain": [
       "2"
      ]
     },
     "execution_count": 62,
     "metadata": {},
     "output_type": "execute_result"
    }
   ],
   "source": [
    "tuple_b.count(5)"
   ]
  },
  {
   "cell_type": "code",
   "execution_count": 63,
   "id": "2f5404ae",
   "metadata": {},
   "outputs": [
    {
     "data": {
      "text/plain": [
       "5"
      ]
     },
     "execution_count": 63,
     "metadata": {},
     "output_type": "execute_result"
    }
   ],
   "source": [
    "len(tuple_b)"
   ]
  },
  {
   "cell_type": "code",
   "execution_count": 64,
   "id": "00ac54ba",
   "metadata": {},
   "outputs": [
    {
     "data": {
      "text/plain": [
       "1"
      ]
     },
     "execution_count": 64,
     "metadata": {},
     "output_type": "execute_result"
    }
   ],
   "source": [
    "min(tuple_b)"
   ]
  },
  {
   "cell_type": "code",
   "execution_count": 65,
   "id": "82ee10ab",
   "metadata": {},
   "outputs": [
    {
     "data": {
      "text/plain": [
       "5"
      ]
     },
     "execution_count": 65,
     "metadata": {},
     "output_type": "execute_result"
    }
   ],
   "source": [
    "max(tuple_b)"
   ]
  },
  {
   "cell_type": "code",
   "execution_count": 66,
   "id": "bba7bb8d",
   "metadata": {},
   "outputs": [
    {
     "data": {
      "text/plain": [
       "16"
      ]
     },
     "execution_count": 66,
     "metadata": {},
     "output_type": "execute_result"
    }
   ],
   "source": [
    "sum(tuple_b)"
   ]
  },
  {
   "cell_type": "code",
   "execution_count": 67,
   "id": "97a7308a",
   "metadata": {},
   "outputs": [
    {
     "data": {
      "text/plain": [
       "(1, 2, 3, 5, 5)"
      ]
     },
     "execution_count": 67,
     "metadata": {},
     "output_type": "execute_result"
    }
   ],
   "source": [
    "tuple_b"
   ]
  },
  {
   "cell_type": "code",
   "execution_count": 68,
   "id": "a306e0a3",
   "metadata": {},
   "outputs": [
    {
     "data": {
      "text/plain": [
       "'a'"
      ]
     },
     "execution_count": 68,
     "metadata": {},
     "output_type": "execute_result"
    }
   ],
   "source": [
    "min('d','f','a')"
   ]
  },
  {
   "cell_type": "code",
   "execution_count": 72,
   "id": "72c26026",
   "metadata": {},
   "outputs": [
    {
     "data": {
      "text/plain": [
       "'r'"
      ]
     },
     "execution_count": 72,
     "metadata": {},
     "output_type": "execute_result"
    }
   ],
   "source": [
    "max('e','f',\"r\")"
   ]
  },
  {
   "cell_type": "code",
   "execution_count": 73,
   "id": "870186cd",
   "metadata": {},
   "outputs": [],
   "source": [
    "tuple_str = ('lets','upgrade',3,4,5,[],True)"
   ]
  },
  {
   "cell_type": "code",
   "execution_count": 76,
   "id": "7fdf810a",
   "metadata": {},
   "outputs": [
    {
     "data": {
      "text/plain": [
       "('lets', 'upgrade', 3, 4, 5, [], True)"
      ]
     },
     "execution_count": 76,
     "metadata": {},
     "output_type": "execute_result"
    }
   ],
   "source": [
    "tuple_str"
   ]
  },
  {
   "cell_type": "markdown",
   "id": "3ab25ede",
   "metadata": {},
   "source": [
    "# Dict also known as JSON"
   ]
  },
  {
   "cell_type": "code",
   "execution_count": 78,
   "id": "c49055dc",
   "metadata": {},
   "outputs": [
    {
     "data": {
      "text/plain": [
       "{'name': 'lets Upgrade', 'Age': 20}"
      ]
     },
     "execution_count": 78,
     "metadata": {},
     "output_type": "execute_result"
    }
   ],
   "source": [
    "{\n",
    "    'name':'lets Upgrade',\n",
    "    'Age':20,\n",
    "}"
   ]
  },
  {
   "cell_type": "code",
   "execution_count": 79,
   "id": "7a51156a",
   "metadata": {},
   "outputs": [],
   "source": [
    "information=dict{}"
   ]
  },
  {
   "cell_type": "code",
   "execution_count": 81,
   "id": "bd658daf",
   "metadata": {},
   "outputs": [],
   "source": [
    "information={}"
   ]
  },
  {
   "cell_type": "code",
   "execution_count": 80,
   "id": "9ad4de2d",
   "metadata": {},
   "outputs": [
    {
     "data": {
      "text/plain": [
       "dict"
      ]
     },
     "execution_count": 80,
     "metadata": {},
     "output_type": "execute_result"
    }
   ],
   "source": [
    "type(information)"
   ]
  },
  {
   "cell_type": "code",
   "execution_count": 84,
   "id": "1e5f9df7",
   "metadata": {},
   "outputs": [
    {
     "data": {
      "text/plain": [
       "{}"
      ]
     },
     "execution_count": 84,
     "metadata": {},
     "output_type": "execute_result"
    }
   ],
   "source": [
    "information"
   ]
  },
  {
   "cell_type": "code",
   "execution_count": 85,
   "id": "e4fb65a8",
   "metadata": {},
   "outputs": [],
   "source": [
    "information['name']='Lets Upgrade'"
   ]
  },
  {
   "cell_type": "code",
   "execution_count": 86,
   "id": "a7171fe0",
   "metadata": {},
   "outputs": [
    {
     "data": {
      "text/plain": [
       "{'name': 'Lets Upgrade'}"
      ]
     },
     "execution_count": 86,
     "metadata": {},
     "output_type": "execute_result"
    }
   ],
   "source": [
    "information"
   ]
  },
  {
   "cell_type": "code",
   "execution_count": 87,
   "id": "d06107ca",
   "metadata": {},
   "outputs": [],
   "source": [
    "information['Age']=12"
   ]
  },
  {
   "cell_type": "code",
   "execution_count": 88,
   "id": "385c47af",
   "metadata": {},
   "outputs": [
    {
     "data": {
      "text/plain": [
       "{'name': 'Lets Upgrade', 'Age': 12}"
      ]
     },
     "execution_count": 88,
     "metadata": {},
     "output_type": "execute_result"
    }
   ],
   "source": [
    "information"
   ]
  },
  {
   "cell_type": "code",
   "execution_count": 96,
   "id": "7a36dd3b",
   "metadata": {},
   "outputs": [],
   "source": [
    "information.update({\"Adress\":'India'})"
   ]
  },
  {
   "cell_type": "code",
   "execution_count": 97,
   "id": "41a075a7",
   "metadata": {},
   "outputs": [
    {
     "data": {
      "text/plain": [
       "{'name': 'Lets Upgrade', 'Age': 12, 'Adress': 'India'}"
      ]
     },
     "execution_count": 97,
     "metadata": {},
     "output_type": "execute_result"
    }
   ],
   "source": [
    "information"
   ]
  },
  {
   "cell_type": "code",
   "execution_count": 98,
   "id": "4dc34938",
   "metadata": {},
   "outputs": [
    {
     "data": {
      "text/plain": [
       "'Lets Upgrade'"
      ]
     },
     "execution_count": 98,
     "metadata": {},
     "output_type": "execute_result"
    }
   ],
   "source": [
    "information['name']"
   ]
  },
  {
   "cell_type": "code",
   "execution_count": 102,
   "id": "03fa27ff",
   "metadata": {},
   "outputs": [
    {
     "data": {
      "text/plain": [
       "'India'"
      ]
     },
     "execution_count": 102,
     "metadata": {},
     "output_type": "execute_result"
    }
   ],
   "source": [
    "information[\"Adress\"]"
   ]
  },
  {
   "cell_type": "code",
   "execution_count": 103,
   "id": "5769ebb1",
   "metadata": {},
   "outputs": [],
   "source": [
    "information['name']='Lets Upgrade India'"
   ]
  },
  {
   "cell_type": "code",
   "execution_count": 104,
   "id": "d91e4fc2",
   "metadata": {},
   "outputs": [
    {
     "data": {
      "text/plain": [
       "{'name': 'Lets Upgrade India', 'Age': 12, 'Adress': 'India'}"
      ]
     },
     "execution_count": 104,
     "metadata": {},
     "output_type": "execute_result"
    }
   ],
   "source": [
    "information"
   ]
  },
  {
   "cell_type": "code",
   "execution_count": 106,
   "id": "695f50f6",
   "metadata": {},
   "outputs": [],
   "source": [
    "information['Adress 2']='India'"
   ]
  },
  {
   "cell_type": "code",
   "execution_count": 107,
   "id": "cffcb143",
   "metadata": {},
   "outputs": [
    {
     "data": {
      "text/plain": [
       "{'name': 'Lets Upgrade India',\n",
       " 'Age': 12,\n",
       " 'Adress': 'India',\n",
       " 'Adress 2': 'India'}"
      ]
     },
     "execution_count": 107,
     "metadata": {},
     "output_type": "execute_result"
    }
   ],
   "source": [
    "information"
   ]
  },
  {
   "cell_type": "code",
   "execution_count": 108,
   "id": "b67cfc1b",
   "metadata": {},
   "outputs": [],
   "source": [
    "dict_a={}"
   ]
  },
  {
   "cell_type": "code",
   "execution_count": 109,
   "id": "2030b456",
   "metadata": {},
   "outputs": [],
   "source": [
    "dict_a['name']=\"lets upgrade\""
   ]
  },
  {
   "cell_type": "code",
   "execution_count": 110,
   "id": "2211b003",
   "metadata": {},
   "outputs": [],
   "source": [
    "dict_a[5]='5'"
   ]
  },
  {
   "cell_type": "code",
   "execution_count": 111,
   "id": "4d71712a",
   "metadata": {},
   "outputs": [
    {
     "data": {
      "text/plain": [
       "{'name': 'lets upgrade', 5: '5'}"
      ]
     },
     "execution_count": 111,
     "metadata": {},
     "output_type": "execute_result"
    }
   ],
   "source": [
    "dict_a"
   ]
  },
  {
   "cell_type": "code",
   "execution_count": 112,
   "id": "41134095",
   "metadata": {},
   "outputs": [],
   "source": [
    "dict_b={'name':'Lets upgrade'}"
   ]
  },
  {
   "cell_type": "code",
   "execution_count": 113,
   "id": "900cd8d1",
   "metadata": {},
   "outputs": [
    {
     "data": {
      "text/plain": [
       "{'name': 'Lets upgrade'}"
      ]
     },
     "execution_count": 113,
     "metadata": {},
     "output_type": "execute_result"
    }
   ],
   "source": [
    "dict_b"
   ]
  },
  {
   "cell_type": "code",
   "execution_count": 116,
   "id": "a1ca490a",
   "metadata": {},
   "outputs": [],
   "source": [
    "dict_c=dict(name=\"lets Upgrade\")"
   ]
  },
  {
   "cell_type": "code",
   "execution_count": 117,
   "id": "8caa614e",
   "metadata": {},
   "outputs": [
    {
     "data": {
      "text/plain": [
       "{'name': 'lets Upgrade'}"
      ]
     },
     "execution_count": 117,
     "metadata": {},
     "output_type": "execute_result"
    }
   ],
   "source": [
    "dict_c"
   ]
  },
  {
   "cell_type": "code",
   "execution_count": 132,
   "id": "6aafb49a",
   "metadata": {},
   "outputs": [
    {
     "data": {
      "text/plain": [
       "{'name': 'Lets Upgrade India',\n",
       " 'Age': 12,\n",
       " 'Adress': 'India',\n",
       " 'Adress 2': 'India'}"
      ]
     },
     "execution_count": 132,
     "metadata": {},
     "output_type": "execute_result"
    }
   ],
   "source": [
    "information"
   ]
  },
  {
   "cell_type": "code",
   "execution_count": 133,
   "id": "fc3a32ba",
   "metadata": {},
   "outputs": [
    {
     "data": {
      "text/plain": [
       "12"
      ]
     },
     "execution_count": 133,
     "metadata": {},
     "output_type": "execute_result"
    }
   ],
   "source": [
    "information['Age']"
   ]
  },
  {
   "cell_type": "code",
   "execution_count": 167,
   "id": "226a1d6e",
   "metadata": {},
   "outputs": [],
   "source": [
    "#informatiom['Marks']"
   ]
  },
  {
   "cell_type": "code",
   "execution_count": 135,
   "id": "fdf089e4",
   "metadata": {},
   "outputs": [],
   "source": [
    "information.get('Marks')"
   ]
  },
  {
   "cell_type": "code",
   "execution_count": 136,
   "id": "10a12494",
   "metadata": {},
   "outputs": [
    {
     "data": {
      "text/plain": [
       "'Does Not Exist'"
      ]
     },
     "execution_count": 136,
     "metadata": {},
     "output_type": "execute_result"
    }
   ],
   "source": [
    "information.get('Marks','Does Not Exist')"
   ]
  },
  {
   "cell_type": "code",
   "execution_count": 138,
   "id": "bb20270a",
   "metadata": {},
   "outputs": [
    {
     "data": {
      "text/plain": [
       "{'name': 'Lets Upgrade India',\n",
       " 'Age': 12,\n",
       " 'Adress': 'India',\n",
       " 'Adress 2': 'India'}"
      ]
     },
     "execution_count": 138,
     "metadata": {},
     "output_type": "execute_result"
    }
   ],
   "source": [
    "information"
   ]
  },
  {
   "cell_type": "code",
   "execution_count": 139,
   "id": "c536c57a",
   "metadata": {},
   "outputs": [
    {
     "data": {
      "text/plain": [
       "dict_keys(['name', 'Age', 'Adress', 'Adress 2'])"
      ]
     },
     "execution_count": 139,
     "metadata": {},
     "output_type": "execute_result"
    }
   ],
   "source": [
    "information.keys()"
   ]
  },
  {
   "cell_type": "code",
   "execution_count": 142,
   "id": "b7ccdbfe",
   "metadata": {},
   "outputs": [
    {
     "data": {
      "text/plain": [
       "dict_values(['Lets Upgrade India', 12, 'India', 'India'])"
      ]
     },
     "execution_count": 142,
     "metadata": {},
     "output_type": "execute_result"
    }
   ],
   "source": [
    "information.values()"
   ]
  },
  {
   "cell_type": "code",
   "execution_count": 143,
   "id": "8d42341d",
   "metadata": {},
   "outputs": [
    {
     "data": {
      "text/plain": [
       "dict_items([('name', 'Lets Upgrade India'), ('Age', 12), ('Adress', 'India'), ('Adress 2', 'India')])"
      ]
     },
     "execution_count": 143,
     "metadata": {},
     "output_type": "execute_result"
    }
   ],
   "source": [
    "information.items()"
   ]
  },
  {
   "cell_type": "code",
   "execution_count": 146,
   "id": "80a80c87",
   "metadata": {},
   "outputs": [
    {
     "name": "stdout",
     "output_type": "stream",
     "text": [
      "name Lets Upgrade India\n",
      "Age 12\n",
      "Adress India\n",
      "Adress 2 India\n"
     ]
    }
   ],
   "source": [
    "for key ,value in information.items():print(key,value)"
   ]
  },
  {
   "cell_type": "code",
   "execution_count": 147,
   "id": "4f0203b3",
   "metadata": {},
   "outputs": [
    {
     "name": "stdout",
     "output_type": "stream",
     "text": [
      "name\n",
      "Age\n",
      "Adress\n",
      "Adress 2\n"
     ]
    }
   ],
   "source": [
    "for key in information:print(key)"
   ]
  },
  {
   "cell_type": "code",
   "execution_count": 149,
   "id": "2e46d7e2",
   "metadata": {},
   "outputs": [
    {
     "name": "stdout",
     "output_type": "stream",
     "text": [
      "name\n",
      "Age\n",
      "Adress\n",
      "Adress 2\n"
     ]
    }
   ],
   "source": [
    "for key in information.keys():print(key)"
   ]
  },
  {
   "cell_type": "code",
   "execution_count": 150,
   "id": "abbce476",
   "metadata": {},
   "outputs": [
    {
     "name": "stdout",
     "output_type": "stream",
     "text": [
      "name Lets Upgrade India\n",
      "Age 12\n",
      "Adress India\n",
      "Adress 2 India\n"
     ]
    }
   ],
   "source": [
    "for key in information:\n",
    "    print(key,information[key])"
   ]
  },
  {
   "cell_type": "code",
   "execution_count": 151,
   "id": "ab044153",
   "metadata": {},
   "outputs": [],
   "source": [
    "list_a=[1,2,3,4,5]"
   ]
  },
  {
   "cell_type": "code",
   "execution_count": 152,
   "id": "9e386cda",
   "metadata": {},
   "outputs": [
    {
     "data": {
      "text/plain": [
       "[1, 2, 3, 4, 5]"
      ]
     },
     "execution_count": 152,
     "metadata": {},
     "output_type": "execute_result"
    }
   ],
   "source": [
    "list_a"
   ]
  },
  {
   "cell_type": "code",
   "execution_count": 153,
   "id": "9db93c03",
   "metadata": {},
   "outputs": [],
   "source": [
    "list_b=list_a"
   ]
  },
  {
   "cell_type": "code",
   "execution_count": 154,
   "id": "32b01d34",
   "metadata": {},
   "outputs": [
    {
     "data": {
      "text/plain": [
       "[1, 2, 3, 4, 5]"
      ]
     },
     "execution_count": 154,
     "metadata": {},
     "output_type": "execute_result"
    }
   ],
   "source": [
    "list_b"
   ]
  },
  {
   "cell_type": "code",
   "execution_count": 155,
   "id": "b3e57a28",
   "metadata": {},
   "outputs": [],
   "source": [
    "list_b.append(76)"
   ]
  },
  {
   "cell_type": "code",
   "execution_count": 156,
   "id": "298ee01e",
   "metadata": {},
   "outputs": [
    {
     "data": {
      "text/plain": [
       "[1, 2, 3, 4, 5, 76]"
      ]
     },
     "execution_count": 156,
     "metadata": {},
     "output_type": "execute_result"
    }
   ],
   "source": [
    "list_b"
   ]
  },
  {
   "cell_type": "code",
   "execution_count": 158,
   "id": "1a9dc7d4",
   "metadata": {},
   "outputs": [
    {
     "data": {
      "text/plain": [
       "[1, 2, 3, 4, 5, 76]"
      ]
     },
     "execution_count": 158,
     "metadata": {},
     "output_type": "execute_result"
    }
   ],
   "source": [
    "list_a"
   ]
  },
  {
   "cell_type": "code",
   "execution_count": 159,
   "id": "05a1e35b",
   "metadata": {},
   "outputs": [],
   "source": [
    "list_a.append(23)"
   ]
  },
  {
   "cell_type": "code",
   "execution_count": 160,
   "id": "a997d221",
   "metadata": {},
   "outputs": [
    {
     "data": {
      "text/plain": [
       "[1, 2, 3, 4, 5, 76, 23]"
      ]
     },
     "execution_count": 160,
     "metadata": {},
     "output_type": "execute_result"
    }
   ],
   "source": [
    "list_a"
   ]
  },
  {
   "cell_type": "code",
   "execution_count": 162,
   "id": "37aeccd6",
   "metadata": {},
   "outputs": [
    {
     "data": {
      "text/plain": [
       "[1, 2, 3, 4, 5, 76, 23]"
      ]
     },
     "execution_count": 162,
     "metadata": {},
     "output_type": "execute_result"
    }
   ],
   "source": [
    "list_b"
   ]
  },
  {
   "cell_type": "code",
   "execution_count": 163,
   "id": "b9d1e221",
   "metadata": {},
   "outputs": [
    {
     "data": {
      "text/plain": [
       "1695207664512"
      ]
     },
     "execution_count": 163,
     "metadata": {},
     "output_type": "execute_result"
    }
   ],
   "source": [
    "id(list_a)"
   ]
  },
  {
   "cell_type": "code",
   "execution_count": 165,
   "id": "c36b3cc9",
   "metadata": {},
   "outputs": [
    {
     "data": {
      "text/plain": [
       "1695207664512"
      ]
     },
     "execution_count": 165,
     "metadata": {},
     "output_type": "execute_result"
    }
   ],
   "source": [
    "id(list_b)"
   ]
  },
  {
   "cell_type": "code",
   "execution_count": null,
   "id": "a18a270b",
   "metadata": {},
   "outputs": [],
   "source": []
  }
 ],
 "metadata": {
  "kernelspec": {
   "display_name": "Python 3 (ipykernel)",
   "language": "python",
   "name": "python3"
  },
  "language_info": {
   "codemirror_mode": {
    "name": "ipython",
    "version": 3
   },
   "file_extension": ".py",
   "mimetype": "text/x-python",
   "name": "python",
   "nbconvert_exporter": "python",
   "pygments_lexer": "ipython3",
   "version": "3.9.7"
  }
 },
 "nbformat": 4,
 "nbformat_minor": 5
}
